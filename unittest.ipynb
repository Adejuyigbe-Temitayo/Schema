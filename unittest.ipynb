{
 "cells": [
  {
   "cell_type": "code",
   "execution_count": 15,
   "metadata": {},
   "outputs": [],
   "source": [
    "# Lets import necesary dependencies\n",
    "import pandas as pd\n",
    "import json\n",
    "import unittest"
   ]
  },
  {
   "cell_type": "code",
   "execution_count": 33,
   "metadata": {},
   "outputs": [],
   "source": [
    "class SchemeMyMessage:\n",
    "\n",
    "    def read_and_clean(self, input_filepath):\n",
    "        df = pd.read_json(input_filepath)\n",
    "        message = df.loc[:, 'message']\n",
    "        clean_message_data = pd.DataFrame(message.dropna())\n",
    "        return clean_message_data\n",
    "\n",
    "    def type_map(self, element):\n",
    "        if type(element) == str:\n",
    "            message = \"String\"\n",
    "        elif type(element) == int:\n",
    "            message = \"Integer\"\n",
    "        elif type(element) == float:\n",
    "            message = \"Float\"\n",
    "        elif type(element) == bool:\n",
    "            message = \"Boolean\"\n",
    "        elif type(element) == list and element is not None and [type(element[i]) == str for i in range(len(element)-1)]:\n",
    "            message = \"Enum\"\n",
    "        elif type(element) == list and element is not None and [type(element[i]) == dict for i in range(len(element)-1)]:\n",
    "            message = \"Array\"\n",
    "        elif type(element) == list:\n",
    "            message = \"List\"\n",
    "        elif type(element) == tuple:\n",
    "            message = \"Tuple\"\n",
    "        elif type(element) == dict:\n",
    "            message = \"Dictionary\"\n",
    "        else:\n",
    "            message = \"Other Lists type\"\n",
    "        return message\n",
    "\n",
    "    def schema_function(self, file_path):\n",
    "        clean_message_data = self.read_and_clean(file_path)\n",
    "        schema = {}\n",
    "        for index, values in clean_message_data.iterrows():\n",
    "            for value in values:\n",
    "                info = {\n",
    "                    \"type\": self.type_map(value),\n",
    "                    \"tag\": \"\",\n",
    "                    \"description\": f\"This gives information about the {index}\",\n",
    "                    \"required\": 'false'}\n",
    "                schema[index] = info\n",
    "        return json.dumps(schema, indent=4)\n",
    "\n",
    "\n",
    "class WriteOutput:\n",
    "    def _init_(self, schema, input_filepath):\n",
    "        self.schema = schema\n",
    "        self.input_filepath = input_filepath\n",
    "\n",
    "    def writing_output(self, schema, output_filepath):\n",
    "        with open(output_filepath, \"w\") as output_file:\n",
    "            output_file.write(json.dumps(schema, indent=4))\n",
    "            # print(json.dumps(schema, indent=4))\n"
   ]
  },
  {
   "cell_type": "markdown",
   "metadata": {},
   "source": [
    "Let us test the validity of the json file we want to load"
   ]
  },
  {
   "cell_type": "code",
   "execution_count": 34,
   "metadata": {},
   "outputs": [
    {
     "name": "stdout",
     "output_type": "stream",
     "text": [
      "File is a good json file\n"
     ]
    }
   ],
   "source": [
    "def validate_json_syntax(filepath):\n",
    "    try:\n",
    "        pd.read_json(filepath)\n",
    "        return \"File is a good json file\"\n",
    "    except:\n",
    "        return \"File is not a valid json file\"\n",
    "\n",
    "        \n",
    "\n",
    "print (validate_json_syntax('.\\data\\data_1.json'))"
   ]
  },
  {
   "cell_type": "markdown",
   "metadata": {},
   "source": [
    "A second test is to see if there is a attribute tag 'Message' \n",
    "\n",
    "It will return True if there is a message Tag\n"
   ]
  },
  {
   "cell_type": "code",
   "execution_count": 32,
   "metadata": {},
   "outputs": [
    {
     "name": "stdout",
     "output_type": "stream",
     "text": [
      "True\n"
     ]
    }
   ],
   "source": [
    "def validate_message_column(filepath):\n",
    "    try:\n",
    "        data  = pd.read_json(filepath)\n",
    "        if 'message' in data.columns:\n",
    "            return True\n",
    "    except:\n",
    "        return False\n",
    "\n",
    "        \n",
    "\n",
    "print (validate_message_column('.\\data\\data_1.json'))"
   ]
  },
  {
   "cell_type": "markdown",
   "metadata": {},
   "source": [
    "Now we can Scheme our json file"
   ]
  }
 ],
 "metadata": {
  "interpreter": {
   "hash": "8fac594bfae6525c0c41b4041d2d72effa188cc8ead05f81b1fab2bb098927fb"
  },
  "kernelspec": {
   "display_name": "Python 3.8.5 64-bit ('base': conda)",
   "name": "python3"
  },
  "language_info": {
   "codemirror_mode": {
    "name": "ipython",
    "version": 3
   },
   "file_extension": ".py",
   "mimetype": "text/x-python",
   "name": "python",
   "nbconvert_exporter": "python",
   "pygments_lexer": "ipython3",
   "version": "3.8.5"
  },
  "orig_nbformat": 4
 },
 "nbformat": 4,
 "nbformat_minor": 2
}
