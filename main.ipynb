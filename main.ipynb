{
 "cells": [
  {
   "cell_type": "code",
   "execution_count": 189,
   "metadata": {},
   "outputs": [],
   "source": [
    "# Importing dependencies\n",
    "import pandas as pd\n",
    "import json\n",
    "# import unittest"
   ]
  },
  {
   "cell_type": "code",
   "execution_count": 190,
   "metadata": {},
   "outputs": [],
   "source": [
    "# Loading data\n",
    "def read_json_file(filepath):\n",
    "    df = pd.read_json(filepath)\n",
    "    return df\n"
   ]
  },
  {
   "cell_type": "code",
   "execution_count": 191,
   "metadata": {},
   "outputs": [],
   "source": [
    "# Cleaning up the dataframe for scheming\n",
    "def remove_null_in_message(df):\n",
    "    message = df.loc[:,'message']\n",
    "    clean_message_data = pd.DataFrame(message.dropna())\n",
    "    clean_message_data.to_dict()\n",
    "    return clean_message_data"
   ]
  },
  {
   "cell_type": "code",
   "execution_count": 192,
   "metadata": {},
   "outputs": [],
   "source": [
    "# A map for our data type\n",
    "def type_map(element):\n",
    "    if type(element) == str:\n",
    "        message = \"String\"\n",
    "    elif type(element) == int:\n",
    "        message = \"Integer\"\n",
    "    elif type(element) ==  dict:\n",
    "        message = \"Dictionary\"\n",
    "    elif type(element) ==  tuple:\n",
    "        message = \"Tuple\"\n",
    "    elif type(element) ==  bool:\n",
    "        message = \"Boolean\"\n",
    "    elif type(element) ==  float:\n",
    "        message = \"Float\"\n",
    "    elif type(element) == list and element is not None and [type(element[i]) == str for i in range(len(element)-1)]:\n",
    "        message = \"Enum\"\n",
    "    elif type(element) == list and element is not None and [type(element[i]) == dict for i in range(len(element)-1)]:\n",
    "        message = \"Array\"\n",
    "    elif type(element) == list:\n",
    "        message = \"List\"\n",
    "    else:\n",
    "        message = \"Other Lists type\"\n",
    "    return message"
   ]
  },
  {
   "cell_type": "code",
   "execution_count": 193,
   "metadata": {},
   "outputs": [],
   "source": [
    "# To scheme\n",
    "def schema_function(clean_message_data):\n",
    "    schema = {}\n",
    "    for index, values in clean_message_data.iterrows():\n",
    "        for value in values:\n",
    "            info = {\n",
    "            \"type\": type_map(value),\n",
    "            \"tag\": \"\",\n",
    "            \"description\": f\"This gives information about the {index}\",\n",
    "            \"required\": 'false'}\n",
    "            schema[index] = info\n",
    "    return schema\n"
   ]
  },
  {
   "cell_type": "code",
   "execution_count": 17,
   "metadata": {},
   "outputs": [],
   "source": [
    "class SchemeMyMessage:\n",
    "\n",
    "    def read_and_clean(self, input_filepath):\n",
    "        df = pd.read_json(input_filepath)\n",
    "        message = df.loc[:, 'message']\n",
    "        clean_message_data = pd.DataFrame(message.dropna())\n",
    "        clean_message_data.to_dict()\n",
    "        return clean_message_data\n",
    "\n",
    "    def type_map(self, element):\n",
    "        if type(element) == str:\n",
    "            message = \"String\"\n",
    "        elif type(element) == int:\n",
    "            message = \"Integer\"\n",
    "        elif type(element) == float:\n",
    "            message = \"Float\"\n",
    "        elif type(element) == bool:\n",
    "            message = \"Boolean\"\n",
    "        elif type(element) == list and element is not None and [type(element[i]) == str for i in range(len(element)-1)]:\n",
    "            message = \"Enum\"\n",
    "        elif type(element) == list and element is not None and [type(element[i]) == dict for i in range(len(element)-1)]:\n",
    "            message = \"Array\"\n",
    "        elif type(element) == list:\n",
    "            message = \"List\"\n",
    "        elif type(element) == tuple:\n",
    "            message = \"Tuple\"\n",
    "        elif type(element) == dict:\n",
    "            message = \"Dictionary\"\n",
    "        else:\n",
    "            message = \"Other Lists type\"\n",
    "        return message\n",
    "\n",
    "    def schema_function(self, file_path):\n",
    "        clean_message_data = self.read_and_clean(file_path)\n",
    "        schema = {}\n",
    "        for index, values in clean_message_data.iterrows():\n",
    "            for value in values:\n",
    "                info = {\n",
    "                    \"type\": self.type_map(value),\n",
    "                    \"tag\": \"\",\n",
    "                    \"description\": f\"This gives information about the {index}\",\n",
    "                    \"required\": 'false'}\n",
    "                schema[index] = info\n",
    "        return schema\n",
    "\n",
    "    def writing_output(self, schema, output_filepath):\n",
    "        with open(output_filepath, \"w\") as output_file:\n",
    "            output_file.write(json.dumps(schema, indent=4))\n",
    "            \n"
   ]
  },
  {
   "cell_type": "code",
   "execution_count": 21,
   "metadata": {},
   "outputs": [],
   "source": [
    "# To test the algorithm on the data set given \n",
    "import pandas as pd\n",
    "import json\n",
    "input_filepath = '.\\data\\data_1.json'\n",
    "output_filepath = \".\\schema\\schema_1.json\"\n",
    "s = SchemeMyMessage()\n",
    "schema = s.schema_function(input_filepath)\n",
    "# print(schema)\n",
    "s.writing_output(schema, output_filepath)"
   ]
  },
  {
   "cell_type": "code",
   "execution_count": null,
   "metadata": {},
   "outputs": [],
   "source": []
  }
 ],
 "metadata": {
  "interpreter": {
   "hash": "2647ea34e536f865ab67ff9ddee7fd78773d956cec0cab53c79b32cd10da5d83"
  },
  "kernelspec": {
   "display_name": "Python 3.9.4 64-bit",
   "name": "python3"
  },
  "language_info": {
   "codemirror_mode": {
    "name": "ipython",
    "version": 3
   },
   "file_extension": ".py",
   "mimetype": "text/x-python",
   "name": "python",
   "nbconvert_exporter": "python",
   "pygments_lexer": "ipython3",
   "version": "3.9.4"
  },
  "orig_nbformat": 4
 },
 "nbformat": 4,
 "nbformat_minor": 2
}
